{
  "cells": [
    {
      "cell_type": "markdown",
      "metadata": {
        "id": "view-in-github",
        "colab_type": "text"
      },
      "source": [
        "<a href=\"https://colab.research.google.com/github/uppertacker/chitrai/blob/notebook/Chitr_AI_SDXL.ipynb\" target=\"_parent\"><img src=\"https://colab.research.google.com/assets/colab-badge.svg\" alt=\"Open In Colab\"/></a>"
      ]
    },
    {
      "cell_type": "code",
      "source": [
        "#@title Generate\n",
        "#@markdown Run to generate the art\n",
        "\n",
        "#Initialize\n",
        "init = False\n",
        "if(init==False):\n",
        "    ! git clone https://github.com/uppertacker/chitrai\n",
        "\n",
        "    from chitrai import chitrsdxl\n",
        "    import cv2\n",
        "    from google.colab.patches import cv2_imshow\n",
        "    import numpy as np\n",
        "\n",
        "    pipe, torch_device = chitrsdxl.setup()\n",
        "    pipe = pipe.to(torch_device)\n",
        "    init = True\n",
        "\n",
        "#Generating art\n",
        "prompt = \"An abstract art\" # @param {type:\"string\"}\n",
        "negativePrompt = \"\" # @param {type:\"string\"}\n",
        "seed = 8640086400 # @param {type:\"integer\"}\n",
        "heightInPixel = 1024 # @param {\"type\":\"integer\"}\n",
        "weidthInPixel = 1024 # @param {\"type\":\"integer\"}\n",
        "\n",
        "img = chitrsdxl.getArt(pipe, torch_device, prompt, seed, negativePrompt, heightInPixel, weidthInPixel)\n",
        "\n",
        "#Displaying art\n",
        "array = np.frombuffer(img.read(), dtype=np.uint8)\n",
        "image = cv2.imdecode(array, cv2.IMREAD_COLOR)\n",
        "cv2_imshow(image)"
      ],
      "metadata": {
        "cellView": "form",
        "id": "GD7-qRo1W6rN"
      },
      "execution_count": null,
      "outputs": []
    },
    {
      "cell_type": "code",
      "source": [
        "#@title Download\n",
        "#@markdown Run to download the generated art\n",
        "\n",
        "chitrsdxl.downloadArt(img)"
      ],
      "metadata": {
        "cellView": "form",
        "id": "csO9zfcZjguB"
      },
      "execution_count": null,
      "outputs": []
    }
  ],
  "metadata": {
    "accelerator": "GPU",
    "colab": {
      "provenance": [],
      "include_colab_link": true
    },
    "kernelspec": {
      "display_name": "Python 3",
      "name": "python3"
    },
    "language_info": {
      "name": "python"
    }
  },
  "nbformat": 4,
  "nbformat_minor": 0
}