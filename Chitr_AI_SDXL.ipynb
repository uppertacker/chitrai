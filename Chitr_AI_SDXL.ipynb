{
  "cells": [
    {
      "cell_type": "markdown",
      "metadata": {
        "id": "view-in-github",
        "colab_type": "text"
      },
      "source": [
        "<a href=\"https://colab.research.google.com/github/uppertacker/chitrai/blob/notebook/Chitr_AI_SDXL.ipynb\" target=\"_parent\"><img src=\"https://colab.research.google.com/assets/colab-badge.svg\" alt=\"Open In Colab\"/></a>"
      ]
    },
    {
      "cell_type": "code",
      "source": [
        "#@title Generate\n",
        "#@markdown $\\color{limeGreen}{\\text{Run to generate the art.}}$\n",
        "#@markdown $\\color{limeGreen}{\\text{Resources will be initialised during the first execution, which may take few minutes, subsequent runs to be faster}}$\n",
        "\n",
        "#Initialize\n",
        "if 'pipe' not in locals():\n",
        "    ! git clone https://github.com/uppertacker/chitrai\n",
        "\n",
        "    from chitrai import chitrsdxl\n",
        "    import cv2\n",
        "    from google.colab.patches import cv2_imshow\n",
        "    import numpy as np\n",
        "\n",
        "    pipe, torch_device = chitrsdxl.setup()\n",
        "    pipe = pipe.to(torch_device)\n",
        "\n",
        "#Generating art\n",
        "prompt = \"A modern abstract art\" # @param {type:\"string\"}\n",
        "negativePrompt = \"\" # @param {type:\"string\"}\n",
        "seed = 8640086400 # @param {type:\"integer\"}\n",
        "heightInPixel = 1024 # @param {\"type\":\"integer\"}\n",
        "weidthInPixel = 768 # @param {\"type\":\"integer\"}\n",
        "\n",
        "img = chitrsdxl.getArt(pipe, torch_device, prompt, seed, negativePrompt, heightInPixel, weidthInPixel)\n",
        "\n",
        "#Displaying art\n",
        "array = np.frombuffer(img, dtype=np.uint8)\n",
        "image = cv2.imdecode(array, cv2.IMREAD_COLOR)\n",
        "cv2_imshow(image)"
      ],
      "metadata": {
        "cellView": "form",
        "id": "GD7-qRo1W6rN"
      },
      "execution_count": null,
      "outputs": []
    },
    {
      "cell_type": "code",
      "source": [
        "#@title Download\n",
        "#@markdown $\\color{limeGreen}{\\text{Run to download the generated the art}}$\n",
        "\n",
        "chitrsdxl.downloadArt(img)"
      ],
      "metadata": {
        "cellView": "form",
        "id": "csO9zfcZjguB",
        "colab": {
          "base_uri": "https://localhost:8080/",
          "height": 17
        },
        "outputId": "255ea02f-3a30-4299-b1f9-9f8c6f5a120c"
      },
      "execution_count": null,
      "outputs": [
        {
          "output_type": "display_data",
          "data": {
            "text/plain": [
              "<IPython.core.display.Javascript object>"
            ],
            "application/javascript": [
              "\n",
              "    async function download(id, filename, size) {\n",
              "      if (!google.colab.kernel.accessAllowed) {\n",
              "        return;\n",
              "      }\n",
              "      const div = document.createElement('div');\n",
              "      const label = document.createElement('label');\n",
              "      label.textContent = `Downloading \"${filename}\": `;\n",
              "      div.appendChild(label);\n",
              "      const progress = document.createElement('progress');\n",
              "      progress.max = size;\n",
              "      div.appendChild(progress);\n",
              "      document.body.appendChild(div);\n",
              "\n",
              "      const buffers = [];\n",
              "      let downloaded = 0;\n",
              "\n",
              "      const channel = await google.colab.kernel.comms.open(id);\n",
              "      // Send a message to notify the kernel that we're ready.\n",
              "      channel.send({})\n",
              "\n",
              "      for await (const message of channel.messages) {\n",
              "        // Send a message to notify the kernel that we're ready.\n",
              "        channel.send({})\n",
              "        if (message.buffers) {\n",
              "          for (const buffer of message.buffers) {\n",
              "            buffers.push(buffer);\n",
              "            downloaded += buffer.byteLength;\n",
              "            progress.value = downloaded;\n",
              "          }\n",
              "        }\n",
              "      }\n",
              "      const blob = new Blob(buffers, {type: 'application/binary'});\n",
              "      const a = document.createElement('a');\n",
              "      a.href = window.URL.createObjectURL(blob);\n",
              "      a.download = filename;\n",
              "      div.appendChild(a);\n",
              "      a.click();\n",
              "      div.remove();\n",
              "    }\n",
              "  "
            ]
          },
          "metadata": {}
        },
        {
          "output_type": "display_data",
          "data": {
            "text/plain": [
              "<IPython.core.display.Javascript object>"
            ],
            "application/javascript": [
              "download(\"download_ec9403db-d6f7-4786-8d8a-0d6dd3ebcf17\", \"1e267f0ba63a5e9240ee.jpeg\", 153004)"
            ]
          },
          "metadata": {}
        }
      ]
    }
  ],
  "metadata": {
    "accelerator": "GPU",
    "colab": {
      "provenance": [],
      "include_colab_link": true
    },
    "kernelspec": {
      "display_name": "Python 3",
      "name": "python3"
    },
    "language_info": {
      "name": "python"
    }
  },
  "nbformat": 4,
  "nbformat_minor": 0
}